{
 "cells": [
  {
   "cell_type": "code",
   "execution_count": 12,
   "metadata": {},
   "outputs": [],
   "source": [
    "import yaml\n",
    "import requests\n",
    "import pandas as pd\n",
    "\n",
    "\n",
    "with open('.env.yaml', 'r') as file:\n",
    "    config = yaml.safe_load(file)\n",
    "\n",
    "s3_bucket = config['s3']['buckets']['datalake']['bucket_name']\n",
    "api_key = config['api']['seoul']['api_key']"
   ]
  },
  {
   "cell_type": "code",
   "execution_count": null,
   "metadata": {},
   "outputs": [],
   "source": [
    "data_format = 'json'\n",
    "target_year = 2024\n",
    "cgg_cd = 11560 # 11680: 강남, 11560: 영등포\n",
    "cgg_name = '영등포구'\n",
    "\n",
    "openapi_url = 'http://openapi.seoul.go.kr:8088'\n",
    "data_name = 'tbLnOpendataRtmsV'\n",
    "\n",
    "main_url = f'{openapi_url}/{api_key}/{data_format}/{data_name}'"
   ]
  },
  {
   "cell_type": "code",
   "execution_count": null,
   "metadata": {},
   "outputs": [],
   "source": [
    "target_years = [2020, 2021, 2022, 2023, 2024]\n",
    "max_pages = 10000\n",
    "\n",
    "rows = []\n",
    "for target_year in target_years:\n",
    "    print(f\"[YEAR] {target_year}\")\n",
    "    for first_page, last_page in zip(range(1, max_pages + 1, 1000), range(1000, max_pages + 1, 1000)):\n",
    "        print(f\"[PAGE RANGE] {first_page} ~ {last_page}\")\n",
    "\n",
    "        sub_url = f'{first_page}/{last_page}/{target_year}/{cgg_cd}/{cgg_name}'\n",
    "        response = requests.get(f'{main_url}/{sub_url}')\n",
    "        api_output = response.json()\n",
    "\n",
    "        try:\n",
    "            # 성공 시 'tbLnOpendataRtmsV'가 header key로 같이 전달됨\n",
    "            api_output[data_name]\n",
    "        except:\n",
    "            print(api_output['RESULT']['MESSAGE'])\n",
    "\n",
    "        result_rows = api_output[data_name]['row']\n",
    "        rows.extend(result_rows)\n",
    "\n",
    "        if len(result_rows) != 1000: # 더 이상 값이 없는 것\n",
    "            print(f\"[END] Total row cnt: {first_page + len(result_rows)}\")\n",
    "            break"
   ]
  },
  {
   "cell_type": "code",
   "execution_count": null,
   "metadata": {},
   "outputs": [],
   "source": [
    "seoul_cgg_mapping = {\n",
    "    \"강남구\": \"gangnam\",\n",
    "    \"강동구\": \"gangdong\",\n",
    "    \"강북구\": \"gangbuk\",\n",
    "    \"강서구\": \"gangseo\",\n",
    "    \"관악구\": \"gwanak\",\n",
    "    \"광진구\": \"gwangjin\",\n",
    "    \"구로구\": \"guro\",\n",
    "    \"금천구\": \"geumcheon\",\n",
    "    \"노원구\": \"nowon\",\n",
    "    \"도봉구\": \"dobong\",\n",
    "    \"동대문구\": \"dongdaemun\",\n",
    "    \"동작구\": \"dongjak\",\n",
    "    \"마포구\": \"mapo\",\n",
    "    \"서대문구\": \"seodaemun\",\n",
    "    \"서초구\": \"seocho\",\n",
    "    \"성동구\": \"seongdong\",\n",
    "    \"성북구\": \"seongbuk\",\n",
    "    \"송파구\": \"songpa\",\n",
    "    \"양천구\": \"yangcheon\",\n",
    "    \"영등포구\": \"yeongdeungpo\",\n",
    "    \"용산구\": \"yongsan\",\n",
    "    \"은평구\": \"eunpyeong\",\n",
    "    \"종로구\": \"jongno\",\n",
    "    \"중구\": \"jung\",\n",
    "    \"중랑구\": \"jungnang\"\n",
    "}"
   ]
  },
  {
   "cell_type": "code",
   "execution_count": null,
   "metadata": {},
   "outputs": [],
   "source": [
    "df = pd.DataFrame(rows)\n",
    "\n",
    "df.columns = df.columns.str.lower()"
   ]
  },
  {
   "cell_type": "code",
   "execution_count": null,
   "metadata": {},
   "outputs": [],
   "source": [
    "df['cgg'] = df['cgg_nm'].apply(lambda nm: seoul_cgg_mapping.get(nm))\n",
    "df = df.rename(columns={'rcpt_yr': 'year'})"
   ]
  },
  {
   "cell_type": "code",
   "execution_count": null,
   "metadata": {},
   "outputs": [],
   "source": [
    "df.to_parquet(\n",
    "    path=f's3://{s3_bucket}/real_estate/real_estate_sales_seoul',\n",
    "    engine='pyarrow',\n",
    "    compression='snappy',\n",
    "    partition_cols=['year', 'cgg']\n",
    ")"
   ]
  },
  {
   "cell_type": "markdown",
   "metadata": {},
   "source": [
    "### 성공 시:\n",
    "{'tbLnOpendataRtmsV': {'list_total_count': 772,\n",
    "  'RESULT': {'CODE': 'INFO-000', 'MESSAGE': '정상 처리되었습니다'},\n",
    "  'row': [{}]\n",
    "}\n",
    "\n",
    "### 실패 시:\n",
    "{'RESULT': {'CODE': 'INFO-200', 'MESSAGE': '해당하는 데이터가 없습니다.'}}\n",
    "\n",
    "### 제한:\n",
    "1. 한 번 호출 시 1,000개까지만 호출 가능"
   ]
  }
 ],
 "metadata": {
  "kernelspec": {
   "display_name": "subway-api",
   "language": "python",
   "name": "python3"
  },
  "language_info": {
   "codemirror_mode": {
    "name": "ipython",
    "version": 3
   },
   "file_extension": ".py",
   "mimetype": "text/x-python",
   "name": "python",
   "nbconvert_exporter": "python",
   "pygments_lexer": "ipython3",
   "version": "3.13.0"
  }
 },
 "nbformat": 4,
 "nbformat_minor": 2
}
