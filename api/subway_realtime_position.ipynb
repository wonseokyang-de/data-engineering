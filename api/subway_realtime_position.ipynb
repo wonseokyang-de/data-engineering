{
 "cells": [
  {
   "cell_type": "code",
   "execution_count": 2,
   "metadata": {},
   "outputs": [],
   "source": [
    "import os\n",
    "import requests\n",
    "import pandas as pd\n",
    "\n",
    "# 환경 변수 읽기\n",
    "api_key = os.getenv(\"API_KEY\")  # 또는 os.getenv(\"API_KEY\")"
   ]
  },
  {
   "cell_type": "code",
   "execution_count": 7,
   "metadata": {},
   "outputs": [],
   "source": [
    "data_format = 'json'\n",
    "\n",
    "api_url = 'http://swopenapi.seoul.go.kr'\n",
    "data_name = 'realtimePosition'\n",
    "\n",
    "main_url = f'{api_url}/api/subway/{api_key}/{data_format}/{data_name}'\n",
    "sub_url = '/1/30/9호선'"
   ]
  },
  {
   "cell_type": "code",
   "execution_count": 8,
   "metadata": {},
   "outputs": [],
   "source": [
    "response = requests.get(f'{main_url}/{sub_url}')\n",
    "api_output = response.json()"
   ]
  }
 ],
 "metadata": {
  "kernelspec": {
   "display_name": "subway-api",
   "language": "python",
   "name": "python3"
  },
  "language_info": {
   "codemirror_mode": {
    "name": "ipython",
    "version": 3
   },
   "file_extension": ".py",
   "mimetype": "text/x-python",
   "name": "python",
   "nbconvert_exporter": "python",
   "pygments_lexer": "ipython3",
   "version": "3.13.0"
  }
 },
 "nbformat": 4,
 "nbformat_minor": 2
}
